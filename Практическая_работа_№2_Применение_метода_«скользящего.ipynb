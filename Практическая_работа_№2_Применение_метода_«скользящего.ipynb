{
  "nbformat": 4,
  "nbformat_minor": 0,
  "metadata": {
    "colab": {
      "provenance": [],
      "include_colab_link": true
    },
    "kernelspec": {
      "name": "python3",
      "display_name": "Python 3"
    },
    "language_info": {
      "name": "python"
    }
  },
  "cells": [
    {
      "cell_type": "markdown",
      "metadata": {
        "id": "view-in-github",
        "colab_type": "text"
      },
      "source": [
        "<a href=\"https://colab.research.google.com/github/TitanLeonov/img/blob/main/%D0%9F%D1%80%D0%B0%D0%BA%D1%82%D0%B8%D1%87%D0%B5%D1%81%D0%BA%D0%B0%D1%8F_%D1%80%D0%B0%D0%B1%D0%BE%D1%82%D0%B0_%E2%84%962_%D0%9F%D1%80%D0%B8%D0%BC%D0%B5%D0%BD%D0%B5%D0%BD%D0%B8%D0%B5_%D0%BC%D0%B5%D1%82%D0%BE%D0%B4%D0%B0_%C2%AB%D1%81%D0%BA%D0%BE%D0%BB%D1%8C%D0%B7%D1%8F%D1%89%D0%B5%D0%B3%D0%BE.ipynb\" target=\"_parent\"><img src=\"https://colab.research.google.com/assets/colab-badge.svg\" alt=\"Open In Colab\"/></a>"
      ]
    },
    {
      "cell_type": "markdown",
      "source": [
        "# **Практическая работа №2. Применение метода «скользящего окна» для поиска объектов на изображении по эталонам в среде Python. Нелинейные фильтры**"
      ],
      "metadata": {
        "id": "-aXleXg-jAws"
      }
    },
    {
      "cell_type": "markdown",
      "source": [
        "### **Задание №1. Найти пять зашумленных изображений и применить к ним вышеописанные фильтры. Сравнить полученные результаты. Сделать вывод для шумов какого типа целесообразней применение того или иного фильтра**"
      ],
      "metadata": {
        "id": "Dg9_AnTTrCrd"
      }
    },
    {
      "cell_type": "code",
      "source": [
        "import numpy as np\n",
        "import cv2\n",
        "from google.colab.patches import cv2_imshow"
      ],
      "metadata": {
        "id": "A_yPBPwM241l"
      },
      "execution_count": 3,
      "outputs": []
    },
    {
      "cell_type": "code",
      "source": [
        "\n",
        "image_path = [\"im10.png\", \"im11.png\", \"im13.jpeg\", \"im7.png\", \"im9.png\"]\n",
        "\n",
        "for img in image_path:\n",
        "\n",
        "  image = cv2.imread(img)\n",
        "\n",
        "  if image is None:\n",
        "      print(\"Ошибка: изображение не найдено по указанному пути.\")\n",
        "  else:\n",
        "      median_filter = cv2.medianBlur(image, 3)\n",
        "      sredniy_filter = np.ones((3, 3), np.float32) / 9\n",
        "      processed_image = cv2.filter2D(image, -1, sredniy_filter)\n",
        "\n",
        "      combined = np.concatenate((image,median_filter,processed_image ), axis=1)\n",
        "      cv2_imshow(combined)\n"
      ],
      "metadata": {
        "id": "BZuMBLaBrKwc"
      },
      "execution_count": 8,
      "outputs": []
    },
    {
      "cell_type": "markdown",
      "source": [
        "Медианный фильтр - подходит для удаления импульсных шумов. Он заменяет каждый пиксель на медиану значений соседних пикселей, сохраняет края объектов, не размывая их.\n",
        "\n",
        "Средний фильтр -применяется для сглаживания изображения, уменьшая шум. Он заменяет каждый пиксель на среднее значение соседних пикселей, это приводит к размытию краев и общему смягчению изображения."
      ],
      "metadata": {
        "id": "7rjpx0P2SGrn"
      }
    },
    {
      "cell_type": "markdown",
      "source": [
        "\n",
        "### **Задание №2. Из подкаталога «Image_1» (каталога IMAGE), определить местонахождение всех фрагментов (Et_1.png - Et_10.png) на растре IMAGE.jpg, используя вышеописанный алгоритм. Вывести результаты в консоль по каждому эталону**\n"
      ],
      "metadata": {
        "id": "4lm4N7aIjA49"
      }
    },
    {
      "cell_type": "code",
      "source": [
        "image = cv2.imread('IMAGE.jpg')\n",
        "\n",
        "if image is None:\n",
        "    print(\"Ошибка: не удалось загрузить исходное изображение.\")\n",
        "else:\n",
        "    etalon_files = ['Et_1.png','Et_2.png', 'Et_3.png', 'Et_4.png', 'Et_5.png', 'Et_6.png', 'Et_7.png', 'Et_8.png', 'Et_9.png', 'Et_10.png']\n",
        "\n",
        "    for etalon_file in etalon_files:\n",
        "        fragment = cv2.imread(etalon_file)\n",
        "\n",
        "        if fragment is None:\n",
        "            print(f\"Ошибка: не удалось загрузить эталон {etalon_file}.\")\n",
        "            continue\n",
        "\n",
        "        (fragmentHeight, fragmentWidth) = fragment.shape[:2]\n",
        "\n",
        "        result = cv2.matchTemplate(image, fragment, cv2.TM_CCOEFF)\n",
        "        (_, _, minLoc, maxLoc) = cv2.minMaxLoc(result)\n",
        "\n",
        "        topLeft = maxLoc\n",
        "        botRight = (topLeft[0] + fragmentWidth, topLeft[1] + fragmentHeight)\n",
        "        roi = image[topLeft[1]:botRight[1], topLeft[0]:botRight[0]].copy()\n",
        "\n",
        "        mask = np.zeros(image.shape, dtype=\"uint8\")\n",
        "        image_dark = cv2.addWeighted(image, 0.2, mask, 0.75, 0)\n",
        "\n",
        "        image_dark[topLeft[1]:botRight[1], topLeft[0]:botRight[0]] = roi\n",
        "\n",
        "        max_height = 950\n",
        "        if image_dark.shape[0] > max_height:\n",
        "            scale = max_height / image_dark.shape[0]\n",
        "            image_display = cv2.resize(image_dark, None, fx=scale, fy=scale)\n",
        "        else:\n",
        "            image_display = image_dark\n",
        "\n",
        "        print(f\"Исходное изображение с выделенным эталоном {etalon_file}:\")\n",
        "        cv2_imshow(image_display)\n",
        "\n",
        "        print(f\"Эталон изображения ({etalon_file}):\")\n",
        "        cv2_imshow(fragment)\n"
      ],
      "metadata": {
        "id": "jZPTRFkorMFU"
      },
      "execution_count": 9,
      "outputs": []
    },
    {
      "cell_type": "markdown",
      "source": [
        "### **Задание №3. Создать свой эталон (фрагмент), а затем определить его местонахождение на растре (по образцу из примера выше).**\n",
        "\n",
        "**Главное при создании фрагмента учесть его разрешение.**\n",
        "\n",
        "Можно создать эталон на сайте: https://convert-my-image.com/CropImage_Ru или используя срезы NumPy."
      ],
      "metadata": {
        "id": "8JvrBV_krL9x"
      }
    },
    {
      "cell_type": "code",
      "source": [
        "import numpy as np\n",
        "import cv2\n",
        "from google.colab.patches import cv2_imshow\n",
        "\n",
        "image = cv2.imread('Image.jpg')\n",
        "\n",
        "fragment = cv2.imread('ET(3).jpg')\n",
        "\n",
        "if image is None:\n",
        "    print(\"Ошибка: не удалось загрузить исходное изображение.\")\n",
        "if fragment is None:\n",
        "    print(\"Ошибка: не удалось загрузить фрамент изображения.\")\n",
        "\n",
        "(fragmentHeight, fragmentWidth) = fragment.shape[:2]\n",
        "\n",
        "result = cv2.matchTemplate(image, fragment, cv2.TM_CCOEFF)\n",
        "(_, _, minLoc, maxLoc) = cv2.minMaxLoc(result)\n",
        "\n",
        "topLeft = maxLoc\n",
        "botRight = (topLeft[0] + fragmentWidth, topLeft[1] + fragmentHeight)\n",
        "roi = image[topLeft[1]:botRight[1], topLeft[0]:botRight[0]].copy()\n",
        "\n",
        "mask = np.zeros(image.shape, dtype=\"uint8\")\n",
        "image_dark = cv2.addWeighted(image, 0.2, mask, 0.75, 0)\n",
        "\n",
        "image_dark[topLeft[1]:botRight[1], topLeft[0]:botRight[0]] = roi\n",
        "\n",
        "max_height = 950\n",
        "if image_dark.shape[0] > max_height:\n",
        "    scale = max_height / image_dark.shape[0]\n",
        "    image_display = cv2.resize(image_dark, None, fx=scale, fy=scale)\n",
        "else:\n",
        "    image_display = image_dark\n",
        "\n",
        "print(\"Исходное изображение с выделенным фраментом:\")\n",
        "cv2_imshow(image_display)\n",
        "\n",
        "print(\"Фрамент изображения (эталон):\")\n",
        "cv2_imshow(fragment)\n"
      ],
      "metadata": {
        "id": "A3SXG7w1rMQi"
      },
      "execution_count": 10,
      "outputs": []
    }
  ]
}
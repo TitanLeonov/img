{
  "cells": [
    {
      "cell_type": "markdown",
      "metadata": {
        "id": "view-in-github",
        "colab_type": "text"
      },
      "source": [
        "<a href=\"https://colab.research.google.com/github/TitanLeonov/img/blob/main/%D0%9F%D1%80%D0%B0%D0%BA%D1%82%D0%B8%D1%87%D0%B5%D1%81%D0%BA%D0%BE%D0%B5_%D0%B7%D0%B0%D0%B4%D0%B0%D0%BD%D0%B8%D0%B5_1.ipynb\" target=\"_parent\"><img src=\"https://colab.research.google.com/assets/colab-badge.svg\" alt=\"Open In Colab\"/></a>"
      ]
    },
    {
      "cell_type": "markdown",
      "metadata": {
        "id": "n-qtNGBQkj_9"
      },
      "source": [
        "\n",
        "\n",
        "\n",
        "\n",
        " **Практическое задание №1**"
      ]
    },
    {
      "cell_type": "code",
      "execution_count": 4,
      "metadata": {
        "id": "LFXdK7WOiPK9"
      },
      "outputs": [],
      "source": [
        "import numpy as np\n",
        "import cv2\n",
        "from google.colab.patches import cv2_imshow\n",
        "\n",
        "image_paths = [\"1.JPG\", \"2.jpg\", \"3.jpg\", \"4.jpg\", \"5.JPG\"]\n",
        "\n",
        "kernel_low = np.array(\n",
        "    [[1, 1, 1, 1, 1],\n",
        "     [1, 1, 1, 1, 1],\n",
        "     [1, 1, 1, 1, 1],\n",
        "     [1, 1, 1, 1, 1],\n",
        "     [1, 1, 1, 1, 1]]\n",
        ")\n",
        "\n",
        "kernel_high = np.array(\n",
        "    [[0.0, -1.0, 0.0],\n",
        "     [-1.0, 4.0, -1.0],\n",
        "     [0.0, -1.0, 0.0]])\n",
        "\n",
        "kernel_kustom = np.array(\n",
        "    [[-1, -2, -1],\n",
        "     [0, 0, 0],\n",
        "     [1, 2, 1]]\n",
        ")\n",
        "\n",
        "kernel_low = kernel_low / (np.sum(kernel_low) if np.sum(kernel_low) != 0 else 1)\n",
        "kernel_high = kernel_high / (np.sum(kernel_high) if np.sum(kernel_high) != 0 else 1)\n",
        "kernel_kustom = kernel_kustom / (np.sum(kernel_kustom) if np.sum(kernel_kustom) != 0 else 1)"
      ]
    },
    {
      "cell_type": "code",
      "execution_count": 5,
      "metadata": {
        "id": "D271hwnojo5A"
      },
      "outputs": [],
      "source": [
        "\n",
        "for path in image_paths:\n",
        "    img = cv2.imread(path)\n",
        "\n",
        "    img_k_low = cv2.filter2D(img, -1, kernel_low)\n",
        "    img_k_high = cv2.filter2D(img, -1, kernel_high)\n",
        "\n",
        "    combined = np.concatenate((img_k_low, img_k_high), axis=1)\n",
        "    print(combined.shape)\n",
        "\n",
        "    cv2_imshow(combined)"
      ]
    },
    {
      "cell_type": "markdown",
      "source": [
        "Фильтр с низкими частотами сглаживает изображение и уменьшает резкие переходы\n",
        "\n",
        "Фильтр с высокими частотами помогает выделить границы и контуры"
      ],
      "metadata": {
        "id": "AC3rLzTts6OH"
      }
    },
    {
      "cell_type": "code",
      "source": [
        "image_path = cv2.imread(\"5.JPG\")\n",
        "img_resize = cv2.resize(image_path, (1800, 1800))\n",
        "kernel_low = np.array(\n",
        "    [[1, 1, 1, 1, 1],\n",
        "     [1, 1, 1, 1, 1],\n",
        "     [1, 1, 1, 1, 1],\n",
        "     [1, 1, 1, 1, 1],\n",
        "     [1, 1, 1, 1, 1]]\n",
        ")\n",
        "\n",
        "kernel_high = np.array(\n",
        "    [[0.0, -1.0, 0.0],\n",
        "     [-1.0, 4.0, -1.0],\n",
        "     [0.0, -1.0, 0.0]])\n",
        "\n",
        "kernel_kustom = np.array(\n",
        "    [[-1, -2, -1],\n",
        "     [0, 0, 0],\n",
        "     [1, 2, 1]]\n",
        ")\n",
        "\n",
        "kernel_low = kernel_low / (np.sum(kernel_low) if np.sum(kernel_low) != 0 else 1)\n",
        "kernel_high = kernel_high / (np.sum(kernel_high) if np.sum(kernel_high) != 0 else 1)\n",
        "kernel_kustom = kernel_kustom / (np.sum(kernel_kustom) if np.sum(kernel_kustom) != 0 else 1)\n",
        "img_k_low = cv2.filter2D(img_resize, -1, kernel_low)\n",
        "img_k_high = cv2.filter2D(img_resize, -1, kernel_high)\n",
        "\n",
        "combined = np.concatenate((img_k_low, img_k_high), axis=1)\n",
        "\n",
        "cv2_imshow(img_resize)\n",
        "cv2_imshow(combined)\n"
      ],
      "metadata": {
        "id": "0aXVxRCMmx8H"
      },
      "execution_count": 6,
      "outputs": []
    },
    {
      "cell_type": "markdown",
      "source": [],
      "metadata": {
        "id": "aCNZrVP9rJhT"
      }
    },
    {
      "cell_type": "code",
      "execution_count": 9,
      "metadata": {
        "id": "I6XEZDFzmaLA"
      },
      "outputs": [],
      "source": [
        "img_my=cv2.imread(\"6.jpg\")\n",
        "\n",
        "kernel_kustom = np.array(\n",
        "    [[-1, -2, -1],\n",
        "     [0, 0, 0],\n",
        "     [1, 2, 1]]\n",
        ")\n",
        "\n",
        "kernel_kustom = kernel_kustom/ (np.sum(kernel_kustom) if np.sum(kernel_kustom) != 0 else 1)\n",
        "\n",
        "photo = cv2.filter2D(img_my, -1, kernel_kustom)\n",
        "vsevmeste = np.concatenate((img_my, photo), axis=1)\n",
        "cv2_imshow(vsevmeste)"
      ]
    },
    {
      "cell_type": "markdown",
      "source": [
        "Данный фильтр помогает обнаружить горизонтальные границы на изображении"
      ],
      "metadata": {
        "id": "IAWaK0PJtSSr"
      }
    }
  ],
  "metadata": {
    "colab": {
      "provenance": [],
      "authorship_tag": "ABX9TyO6/4HJTEQHMs0Miy2/yI8d",
      "include_colab_link": true
    },
    "kernelspec": {
      "display_name": "Python 3",
      "name": "python3"
    },
    "language_info": {
      "name": "python"
    }
  },
  "nbformat": 4,
  "nbformat_minor": 0
}